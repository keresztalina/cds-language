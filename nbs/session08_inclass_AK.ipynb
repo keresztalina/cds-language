{
 "cells": [
  {
   "attachments": {},
   "cell_type": "markdown",
   "metadata": {},
   "source": [
    "# Session 8 - Language modelling with RNNs (Text Generation)"
   ]
  },
  {
   "cell_type": "code",
   "execution_count": 1,
   "metadata": {},
   "outputs": [
    {
     "name": "stderr",
     "output_type": "stream",
     "text": [
      "2023-03-30 14:43:31.233430: I tensorflow/tsl/cuda/cudart_stub.cc:28] Could not find cuda drivers on your machine, GPU will not be used.\n",
      "2023-03-30 14:43:31.281666: I tensorflow/tsl/cuda/cudart_stub.cc:28] Could not find cuda drivers on your machine, GPU will not be used.\n",
      "2023-03-30 14:43:31.282812: I tensorflow/core/platform/cpu_feature_guard.cc:182] This TensorFlow binary is optimized to use available CPU instructions in performance-critical operations.\n",
      "To enable the following instructions: AVX2 AVX512F FMA, in other operations, rebuild TensorFlow with the appropriate compiler flags.\n",
      "2023-03-30 14:43:32.082278: W tensorflow/compiler/tf2tensorrt/utils/py_utils.cc:38] TF-TRT Warning: Could not find TensorRT\n"
     ]
    }
   ],
   "source": [
    "# data processing tools\n",
    "import string, os \n",
    "import pandas as pd\n",
    "import numpy as np\n",
    "np.random.seed(42)\n",
    "\n",
    "# keras module for building LSTM \n",
    "import tensorflow as tf\n",
    "tf.random.set_seed(42)\n",
    "import tensorflow.keras.utils as ku \n",
    "from tensorflow.keras.models import Sequential\n",
    "from tensorflow.keras.preprocessing.text import Tokenizer\n",
    "from tensorflow.keras.preprocessing.sequence import pad_sequences\n",
    "from tensorflow.keras.layers import Embedding, LSTM, Dense, Dropout\n",
    "\n",
    "# surpress warnings\n",
    "import warnings\n",
    "warnings.filterwarnings(\"ignore\")\n",
    "warnings.simplefilter(\n",
    "    action = 'ignore', \n",
    "    category = FutureWarning)"
   ]
  },
  {
   "attachments": {},
   "cell_type": "markdown",
   "metadata": {},
   "source": [
    "## Some helper functions"
   ]
  },
  {
   "cell_type": "code",
   "execution_count": 2,
   "metadata": {},
   "outputs": [],
   "source": [
    "def clean_text(txt):\n",
    "    # loop through string character by character. check if character is part\n",
    "    # of the string.punctuation vector and if yes then remove it. convert \n",
    "    # everything else to lowercase. concatenate to form new string\n",
    "    # resulting txt string will contain the original string with all \n",
    "    # punctuation marks removed and all characters converted to lowercase\n",
    "    txt = \"\".join(v for v in txt if v not in string.punctuation).lower()\n",
    "    # convert text to bytes with UTF-8 encoding, then take resulting output\n",
    "    # and translate it back into strings while keeping all ASCII-characters\n",
    "    # and removing non-ASCII characters. great if original string contains \n",
    "    # characters that cannot be processed by certain systems or software\n",
    "    txt = txt.encode(\"utf8\").decode(\n",
    "        \"ascii\",\n",
    "        'ignore')\n",
    "    return txt \n",
    "\n",
    "def get_sequence_of_tokens(tokenizer, corpus):\n",
    "    ## convert data to sequence of tokens \n",
    "    input_sequences = []\n",
    "    for line in corpus:\n",
    "        # convert each line into a sequence of integers\n",
    "        token_list = tokenizer.texts_to_sequences([line])[0]\n",
    "        # for each token, find the token that comes after it\n",
    "        # add to list\n",
    "        # (thereby you have a nice list with input words and words that can\n",
    "        # come after them)\n",
    "        for i in range(1, len(token_list)):\n",
    "            n_gram_sequence = token_list[:i+1]\n",
    "            input_sequences.append(n_gram_sequence)\n",
    "    return input_sequences\n",
    "\n",
    "def generate_padded_sequences(input_sequences):\n",
    "    # get the length of the longest sequence\n",
    "    max_sequence_len = max([len(x) for x in input_sequences])\n",
    "    # make every sequence the length of the longest on\n",
    "    input_sequences = np.array(pad_sequences(input_sequences, \n",
    "                                            maxlen=max_sequence_len, \n",
    "                                            padding='pre'))\n",
    "\n",
    "    predictors, label = input_sequences[:,:-1],input_sequences[:,-1]\n",
    "    label = ku.to_categorical(label, \n",
    "                            num_classes=total_words)\n",
    "    return predictors, label, max_sequence_len\n",
    "\n",
    "def create_model(max_sequence_len, total_words):\n",
    "    # max_sequence_len: an integer representing the maximum length of a text sequence\n",
    "    # total_words: an integer representing the total number of unique words in the \n",
    "    # vocabulary of the text corpus\n",
    "    input_len = max_sequence_len - 1\n",
    "    model = Sequential() # model takes one word after the other sequentially\n",
    "    \n",
    "    # Add Input Embedding Layer\n",
    "    # creates dense vector representation for each input word\n",
    "    model.add(\n",
    "        Embedding(\n",
    "            total_words, # the total number of unique words in the vocabulary\n",
    "            10, # the size of the vector space in which the words will be embedded\n",
    "            input_length = input_len))\n",
    "    \n",
    "    # Add Hidden Layer 1 - LSTM Layer\n",
    "    model.add(\n",
    "        LSTM(\n",
    "            100)) # number of memory cells in the layer\n",
    "    # prevent overfitting by randomly dropping out some of the connections between \n",
    "    # the LSTM cells\n",
    "    model.add(\n",
    "        Dropout(\n",
    "            0.1)) # dropout rate\n",
    "    \n",
    "    # Add Output Layer\n",
    "    # generate a probability distribution over the vocabulary of possible next words \n",
    "    # in the sequence\n",
    "    model.add(\n",
    "        Dense(\n",
    "            total_words, # the total number of unique words in the vocabulary\n",
    "            activation = 'softmax'))\n",
    "\n",
    "    model.compile(\n",
    "        loss = 'categorical_crossentropy',\n",
    "        optimizer = 'adam')\n",
    "    \n",
    "    return model\n",
    "\n",
    "def generate_text(seed_text, next_words, model, max_sequence_len):\n",
    "    # seed_text: a string representing the starting text for text generation\n",
    "    # next_words: an integer representing the number of words to generate after \n",
    "    # the seed text\n",
    "    # model: a trained Keras neural network model that will be used for text \n",
    "    # generation\n",
    "    # max_sequence_len: an integer representing the maximum length of the input \n",
    "    # sequence that the model was trained on\n",
    "    for _ in range(next_words):\n",
    "        # convert seed_text to tokens\n",
    "        token_list = tokenizer.texts_to_sequences([\n",
    "            seed_text])[0]\n",
    "        # pad the sequence with zeros to match the length of the input sequences \n",
    "        # that the model was trained on\n",
    "        token_list = pad_sequences([\n",
    "            token_list],\n",
    "            maxlen = max_sequence_len-1,\n",
    "            padding = 'pre') # add zeros before the sequence\n",
    "        # determine the index of the word with the highest predicted probability \n",
    "        # in the output vocabulary\n",
    "        predicted = np.argmax(\n",
    "            model.predict(\n",
    "                token_list),\n",
    "                axis = 1)\n",
    "        \n",
    "        output_word = \"\"\n",
    "        # look up the actual word corresponding to the predicted index in the \n",
    "        # tokenizer's word index, then appends this word to the seed_text variable\n",
    "        for word, index in tokenizer.word_index.items():\n",
    "            if index == predicted:\n",
    "                output_word = word\n",
    "                break\n",
    "        seed_text += \" \" + output_word\n",
    "    return seed_text.title()"
   ]
  },
  {
   "attachments": {},
   "cell_type": "markdown",
   "metadata": {},
   "source": [
    "## Load the data"
   ]
  },
  {
   "cell_type": "code",
   "execution_count": 3,
   "metadata": {},
   "outputs": [],
   "source": [
    "data_dir = os.path.join(\n",
    "    \"..\", \n",
    "    \"..\", \n",
    "    \"..\", \n",
    "    \"431868\", \n",
    "    \"news_data\")"
   ]
  },
  {
   "attachments": {},
   "cell_type": "markdown",
   "metadata": {},
   "source": [
    "We're then going to load the data one at a time and append *only* the headlines to our list of data."
   ]
  },
  {
   "cell_type": "code",
   "execution_count": 5,
   "metadata": {},
   "outputs": [],
   "source": [
    "all_headlines = []\n",
    "for filename in os.listdir(data_dir):\n",
    "    if 'Articles' in filename:\n",
    "        article_df = pd.read_csv(data_dir + \"/\" + filename)\n",
    "        all_headlines.extend(list(article_df[\"headline\"].values))#keep headline"
   ]
  },
  {
   "attachments": {},
   "cell_type": "markdown",
   "metadata": {},
   "source": [
    "We then clean up a little bit and see how many data points we have."
   ]
  },
  {
   "cell_type": "code",
   "execution_count": 6,
   "metadata": {},
   "outputs": [
    {
     "data": {
      "text/plain": [
       "8603"
      ]
     },
     "execution_count": 6,
     "metadata": {},
     "output_type": "execute_result"
    }
   ],
   "source": [
    "# remove \"Unknown\" headlines\n",
    "all_headlines = [h for h in all_headlines if h != \"Unknown\"]\n",
    "len(all_headlines)"
   ]
  },
  {
   "attachments": {},
   "cell_type": "markdown",
   "metadata": {},
   "source": [
    "We call our ```clean_text()``` function and then inspect the first 10 texts."
   ]
  },
  {
   "cell_type": "code",
   "execution_count": 7,
   "metadata": {},
   "outputs": [
    {
     "data": {
      "text/plain": [
       "['my beijing the sacred city',\n",
       " '6 million riders a day 1930s technology',\n",
       " 'seeking a crossborder conference',\n",
       " 'questions for despite the yuck factor leeches are big in russian medicine',\n",
       " 'who is a criminal',\n",
       " 'an antidote to europes populism',\n",
       " 'the cost of a speech',\n",
       " 'degradation of the language',\n",
       " 'on the power of being awful',\n",
       " 'trump garbles pitch on a revised health bill']"
      ]
     },
     "execution_count": 7,
     "metadata": {},
     "output_type": "execute_result"
    }
   ],
   "source": [
    "corpus = [clean_text(x) for x in all_headlines]\n",
    "corpus[:10]"
   ]
  },
  {
   "attachments": {},
   "cell_type": "markdown",
   "metadata": {},
   "source": [
    "## Tokenize\n",
    "\n",
    "We're then going to tokenize our data, using the ```Tokenizer()``` class from ```TensorFlow```, about which you can read more [here](https://www.tensorflow.org/api_docs/python/tf/keras/preprocessing/text/Tokenizer).\n",
    "\n",
    "We then use the ```get_sequence_of_tokens()``` function we defined above, which turns every text into a sequence of tokens based on the vocabulary from the tokenizer."
   ]
  },
  {
   "cell_type": "code",
   "execution_count": 8,
   "metadata": {},
   "outputs": [],
   "source": [
    "# note: tensorflow also has a cleaning function that can be used \n",
    "# instead of the predefined function\n",
    "\n",
    "tokenizer = Tokenizer()\n",
    "## tokenization\n",
    "tokenizer.fit_on_texts(corpus)\n",
    "total_words = len(tokenizer.word_index) + 1"
   ]
  },
  {
   "cell_type": "code",
   "execution_count": 13,
   "metadata": {},
   "outputs": [
    {
     "data": {
      "text/plain": [
       "11265"
      ]
     },
     "execution_count": 13,
     "metadata": {},
     "output_type": "execute_result"
    }
   ],
   "source": [
    "total_words"
   ]
  },
  {
   "cell_type": "code",
   "execution_count": 14,
   "metadata": {},
   "outputs": [
    {
     "data": {
      "text/plain": [
       "[[46, 1601],\n",
       " [46, 1601, 1],\n",
       " [46, 1601, 1, 1951],\n",
       " [46, 1601, 1, 1951, 120],\n",
       " [122, 331],\n",
       " [122, 331, 1952],\n",
       " [122, 331, 1952, 2],\n",
       " [122, 331, 1952, 2, 125],\n",
       " [122, 331, 1952, 2, 125, 2484],\n",
       " [122, 331, 1952, 2, 125, 2484, 812]]"
      ]
     },
     "execution_count": 14,
     "metadata": {},
     "output_type": "execute_result"
    }
   ],
   "source": [
    "inp_sequences = get_sequence_of_tokens(tokenizer, corpus)\n",
    "inp_sequences[:10]\n",
    "# The words in the headlines have been replaced by integers.\n",
    "# For each headline, multiple n-grams have been generated.\n",
    "# It makes more data, shows the way a sentence 'grows', and\n",
    "# teaches the model how to deal with input sentences of different \n",
    "# lengths."
   ]
  },
  {
   "attachments": {},
   "cell_type": "markdown",
   "metadata": {},
   "source": [
    "We then want to *pad* our input sequences to make them all the same length."
   ]
  },
  {
   "cell_type": "code",
   "execution_count": 15,
   "metadata": {},
   "outputs": [],
   "source": [
    "predictors, label, max_sequence_len = generate_padded_sequences(inp_sequences)"
   ]
  },
  {
   "attachments": {},
   "cell_type": "markdown",
   "metadata": {},
   "source": [
    "## Create model"
   ]
  },
  {
   "attachments": {},
   "cell_type": "markdown",
   "metadata": {},
   "source": [
    "We then use the ```create_model()``` function created above to initialize a model, telling the model the length of sequences and the total size of the vocabulary."
   ]
  },
  {
   "cell_type": "code",
   "execution_count": 16,
   "metadata": {},
   "outputs": [
    {
     "name": "stdout",
     "output_type": "stream",
     "text": [
      "Model: \"sequential\"\n",
      "_________________________________________________________________\n",
      " Layer (type)                Output Shape              Param #   \n",
      "=================================================================\n",
      " embedding (Embedding)       (None, 23, 10)            112650    \n",
      "                                                                 \n",
      " lstm (LSTM)                 (None, 100)               44400     \n",
      "                                                                 \n",
      " dropout (Dropout)           (None, 100)               0         \n",
      "                                                                 \n",
      " dense (Dense)               (None, 11265)             1137765   \n",
      "                                                                 \n",
      "=================================================================\n",
      "Total params: 1,294,815\n",
      "Trainable params: 1,294,815\n",
      "Non-trainable params: 0\n",
      "_________________________________________________________________\n"
     ]
    },
    {
     "name": "stderr",
     "output_type": "stream",
     "text": [
      "2023-03-30 15:19:26.516326: I tensorflow/core/common_runtime/executor.cc:1197] [/device:CPU:0] (DEBUG INFO) Executor start aborting (this does not indicate an error and you can ignore this message): INVALID_ARGUMENT: You must feed a value for placeholder tensor 'gradients/split_2_grad/concat/split_2/split_dim' with dtype int32\n",
      "\t [[{{node gradients/split_2_grad/concat/split_2/split_dim}}]]\n",
      "2023-03-30 15:19:26.517724: I tensorflow/core/common_runtime/executor.cc:1197] [/device:CPU:0] (DEBUG INFO) Executor start aborting (this does not indicate an error and you can ignore this message): INVALID_ARGUMENT: You must feed a value for placeholder tensor 'gradients/split_grad/concat/split/split_dim' with dtype int32\n",
      "\t [[{{node gradients/split_grad/concat/split/split_dim}}]]\n",
      "2023-03-30 15:19:26.519860: I tensorflow/core/common_runtime/executor.cc:1197] [/device:CPU:0] (DEBUG INFO) Executor start aborting (this does not indicate an error and you can ignore this message): INVALID_ARGUMENT: You must feed a value for placeholder tensor 'gradients/split_1_grad/concat/split_1/split_dim' with dtype int32\n",
      "\t [[{{node gradients/split_1_grad/concat/split_1/split_dim}}]]\n"
     ]
    }
   ],
   "source": [
    "model = create_model(\n",
    "    max_sequence_len, \n",
    "    total_words)\n",
    "model.summary()"
   ]
  },
  {
   "attachments": {},
   "cell_type": "markdown",
   "metadata": {},
   "source": [
    "Model training is exactly the same as last week, but instead of document labels, we're fitting the model to predict next word.\n",
    "\n",
    "*NB!* This will take some time to train! It took me 35 minutes on UCloud 32xCPU."
   ]
  },
  {
   "cell_type": "code",
   "execution_count": 17,
   "metadata": {},
   "outputs": [
    {
     "name": "stdout",
     "output_type": "stream",
     "text": [
      "Epoch 1/100\n"
     ]
    },
    {
     "name": "stderr",
     "output_type": "stream",
     "text": [
      "2023-03-30 15:20:21.860259: I tensorflow/core/common_runtime/executor.cc:1197] [/device:CPU:0] (DEBUG INFO) Executor start aborting (this does not indicate an error and you can ignore this message): INVALID_ARGUMENT: You must feed a value for placeholder tensor 'gradients/split_2_grad/concat/split_2/split_dim' with dtype int32\n",
      "\t [[{{node gradients/split_2_grad/concat/split_2/split_dim}}]]\n",
      "2023-03-30 15:20:21.861666: I tensorflow/core/common_runtime/executor.cc:1197] [/device:CPU:0] (DEBUG INFO) Executor start aborting (this does not indicate an error and you can ignore this message): INVALID_ARGUMENT: You must feed a value for placeholder tensor 'gradients/split_grad/concat/split/split_dim' with dtype int32\n",
      "\t [[{{node gradients/split_grad/concat/split/split_dim}}]]\n",
      "2023-03-30 15:20:21.863243: I tensorflow/core/common_runtime/executor.cc:1197] [/device:CPU:0] (DEBUG INFO) Executor start aborting (this does not indicate an error and you can ignore this message): INVALID_ARGUMENT: You must feed a value for placeholder tensor 'gradients/split_1_grad/concat/split_1/split_dim' with dtype int32\n",
      "\t [[{{node gradients/split_1_grad/concat/split_1/split_dim}}]]\n",
      "2023-03-30 15:20:22.645582: I tensorflow/core/common_runtime/executor.cc:1197] [/device:CPU:0] (DEBUG INFO) Executor start aborting (this does not indicate an error and you can ignore this message): INVALID_ARGUMENT: You must feed a value for placeholder tensor 'gradients/split_2_grad/concat/split_2/split_dim' with dtype int32\n",
      "\t [[{{node gradients/split_2_grad/concat/split_2/split_dim}}]]\n",
      "2023-03-30 15:20:22.647956: I tensorflow/core/common_runtime/executor.cc:1197] [/device:CPU:0] (DEBUG INFO) Executor start aborting (this does not indicate an error and you can ignore this message): INVALID_ARGUMENT: You must feed a value for placeholder tensor 'gradients/split_grad/concat/split/split_dim' with dtype int32\n",
      "\t [[{{node gradients/split_grad/concat/split/split_dim}}]]\n",
      "2023-03-30 15:20:22.649398: I tensorflow/core/common_runtime/executor.cc:1197] [/device:CPU:0] (DEBUG INFO) Executor start aborting (this does not indicate an error and you can ignore this message): INVALID_ARGUMENT: You must feed a value for placeholder tensor 'gradients/split_1_grad/concat/split_1/split_dim' with dtype int32\n",
      "\t [[{{node gradients/split_1_grad/concat/split_1/split_dim}}]]\n"
     ]
    },
    {
     "name": "stdout",
     "output_type": "stream",
     "text": [
      "405/405 [==============================] - 23s 51ms/step - loss: 7.8888\n",
      "Epoch 2/100\n",
      "405/405 [==============================] - 20s 49ms/step - loss: 7.4823\n",
      "Epoch 3/100\n",
      "405/405 [==============================] - 19s 48ms/step - loss: 7.3965\n",
      "Epoch 4/100\n",
      "405/405 [==============================] - 20s 48ms/step - loss: 7.3074\n",
      "Epoch 5/100\n",
      "405/405 [==============================] - 20s 48ms/step - loss: 7.2040\n",
      "Epoch 6/100\n",
      "405/405 [==============================] - 20s 49ms/step - loss: 7.0989\n",
      "Epoch 7/100\n",
      "405/405 [==============================] - 20s 49ms/step - loss: 6.9847\n",
      "Epoch 8/100\n",
      "405/405 [==============================] - 20s 48ms/step - loss: 6.8567\n",
      "Epoch 9/100\n",
      "405/405 [==============================] - 20s 49ms/step - loss: 6.7186\n",
      "Epoch 10/100\n",
      "405/405 [==============================] - 20s 48ms/step - loss: 6.5817\n",
      "Epoch 11/100\n",
      "405/405 [==============================] - 20s 49ms/step - loss: 6.4487\n",
      "Epoch 12/100\n",
      "405/405 [==============================] - 20s 48ms/step - loss: 6.3247\n",
      "Epoch 13/100\n",
      "405/405 [==============================] - 20s 48ms/step - loss: 6.2011\n",
      "Epoch 14/100\n",
      "405/405 [==============================] - 20s 49ms/step - loss: 6.0844\n",
      "Epoch 15/100\n",
      "405/405 [==============================] - 20s 49ms/step - loss: 5.9720\n",
      "Epoch 16/100\n",
      "405/405 [==============================] - 20s 49ms/step - loss: 5.8572\n",
      "Epoch 17/100\n",
      "405/405 [==============================] - 20s 48ms/step - loss: 5.7472\n",
      "Epoch 18/100\n",
      "405/405 [==============================] - 20s 48ms/step - loss: 5.6363\n",
      "Epoch 19/100\n",
      "405/405 [==============================] - 19s 48ms/step - loss: 5.5339\n",
      "Epoch 20/100\n",
      "405/405 [==============================] - 20s 49ms/step - loss: 5.4292\n",
      "Epoch 21/100\n",
      "405/405 [==============================] - 20s 49ms/step - loss: 5.3296\n",
      "Epoch 22/100\n",
      "405/405 [==============================] - 20s 49ms/step - loss: 5.2292\n",
      "Epoch 23/100\n",
      "405/405 [==============================] - 20s 49ms/step - loss: 5.1341\n",
      "Epoch 24/100\n",
      "405/405 [==============================] - 20s 49ms/step - loss: 5.0398\n",
      "Epoch 25/100\n",
      "405/405 [==============================] - 20s 48ms/step - loss: 4.9510\n",
      "Epoch 26/100\n",
      "405/405 [==============================] - 20s 48ms/step - loss: 4.8628\n",
      "Epoch 27/100\n",
      "405/405 [==============================] - 20s 49ms/step - loss: 4.7784\n",
      "Epoch 28/100\n",
      "405/405 [==============================] - 19s 48ms/step - loss: 4.6967\n",
      "Epoch 29/100\n",
      "405/405 [==============================] - 20s 49ms/step - loss: 4.6198\n",
      "Epoch 30/100\n",
      "405/405 [==============================] - 20s 48ms/step - loss: 4.5425\n",
      "Epoch 31/100\n",
      "405/405 [==============================] - 19s 48ms/step - loss: 4.4719\n",
      "Epoch 32/100\n",
      "405/405 [==============================] - 20s 49ms/step - loss: 4.4041\n",
      "Epoch 33/100\n",
      "405/405 [==============================] - 20s 49ms/step - loss: 4.3390\n",
      "Epoch 34/100\n",
      "405/405 [==============================] - 20s 49ms/step - loss: 4.2750\n",
      "Epoch 35/100\n",
      "405/405 [==============================] - 20s 48ms/step - loss: 4.2180\n",
      "Epoch 36/100\n",
      "405/405 [==============================] - 20s 49ms/step - loss: 4.1579\n",
      "Epoch 37/100\n",
      "405/405 [==============================] - 20s 48ms/step - loss: 4.1029\n",
      "Epoch 38/100\n",
      "405/405 [==============================] - 20s 49ms/step - loss: 4.0532\n",
      "Epoch 39/100\n",
      "405/405 [==============================] - 20s 48ms/step - loss: 3.9984\n",
      "Epoch 40/100\n",
      "405/405 [==============================] - 20s 48ms/step - loss: 3.9509\n",
      "Epoch 41/100\n",
      "405/405 [==============================] - 20s 49ms/step - loss: 3.9038\n",
      "Epoch 42/100\n",
      "405/405 [==============================] - 20s 48ms/step - loss: 3.8602\n",
      "Epoch 43/100\n",
      "405/405 [==============================] - 20s 49ms/step - loss: 3.8166\n",
      "Epoch 44/100\n",
      "405/405 [==============================] - 20s 49ms/step - loss: 3.7689\n",
      "Epoch 45/100\n",
      "405/405 [==============================] - 20s 48ms/step - loss: 3.7313\n",
      "Epoch 46/100\n",
      "405/405 [==============================] - 20s 49ms/step - loss: 3.6879\n",
      "Epoch 47/100\n",
      "405/405 [==============================] - 20s 49ms/step - loss: 3.6455\n",
      "Epoch 48/100\n",
      "405/405 [==============================] - 20s 49ms/step - loss: 3.6171\n",
      "Epoch 49/100\n",
      "405/405 [==============================] - 20s 49ms/step - loss: 3.5744\n",
      "Epoch 50/100\n",
      "405/405 [==============================] - 20s 49ms/step - loss: 3.5370\n",
      "Epoch 51/100\n",
      "405/405 [==============================] - 20s 48ms/step - loss: 3.5038\n",
      "Epoch 52/100\n",
      "405/405 [==============================] - 20s 48ms/step - loss: 3.4702\n",
      "Epoch 53/100\n",
      "405/405 [==============================] - 20s 49ms/step - loss: 3.4364\n",
      "Epoch 54/100\n",
      "405/405 [==============================] - 20s 48ms/step - loss: 3.4033\n",
      "Epoch 55/100\n",
      "405/405 [==============================] - 20s 48ms/step - loss: 3.3717\n",
      "Epoch 56/100\n",
      "405/405 [==============================] - 20s 49ms/step - loss: 3.3421\n",
      "Epoch 57/100\n",
      "405/405 [==============================] - 20s 49ms/step - loss: 3.3156\n",
      "Epoch 58/100\n",
      "405/405 [==============================] - 20s 48ms/step - loss: 3.2838\n",
      "Epoch 59/100\n",
      "405/405 [==============================] - 20s 48ms/step - loss: 3.2602\n",
      "Epoch 60/100\n",
      "405/405 [==============================] - 20s 48ms/step - loss: 3.2226\n",
      "Epoch 61/100\n",
      "405/405 [==============================] - 20s 49ms/step - loss: 3.1997\n",
      "Epoch 62/100\n",
      "405/405 [==============================] - 20s 49ms/step - loss: 3.1734\n",
      "Epoch 63/100\n",
      "405/405 [==============================] - 20s 49ms/step - loss: 3.1478\n",
      "Epoch 64/100\n",
      "405/405 [==============================] - 20s 49ms/step - loss: 3.1219\n",
      "Epoch 65/100\n",
      "405/405 [==============================] - 20s 48ms/step - loss: 3.0953\n",
      "Epoch 66/100\n",
      "405/405 [==============================] - 20s 49ms/step - loss: 3.0659\n",
      "Epoch 67/100\n",
      "405/405 [==============================] - 20s 49ms/step - loss: 3.0459\n",
      "Epoch 68/100\n",
      "405/405 [==============================] - 20s 49ms/step - loss: 3.0243\n",
      "Epoch 69/100\n",
      "405/405 [==============================] - 20s 49ms/step - loss: 2.9987\n",
      "Epoch 70/100\n",
      "405/405 [==============================] - 20s 48ms/step - loss: 2.9771\n",
      "Epoch 71/100\n",
      "405/405 [==============================] - 20s 48ms/step - loss: 2.9490\n",
      "Epoch 72/100\n",
      "405/405 [==============================] - 20s 49ms/step - loss: 2.9307\n",
      "Epoch 73/100\n",
      "405/405 [==============================] - 20s 48ms/step - loss: 2.9091\n",
      "Epoch 74/100\n",
      "405/405 [==============================] - 19s 48ms/step - loss: 2.8896\n",
      "Epoch 75/100\n",
      "405/405 [==============================] - 20s 49ms/step - loss: 2.8707\n",
      "Epoch 76/100\n",
      "405/405 [==============================] - 20s 49ms/step - loss: 2.8503\n",
      "Epoch 77/100\n",
      "405/405 [==============================] - 20s 49ms/step - loss: 2.8296\n",
      "Epoch 78/100\n",
      "405/405 [==============================] - 20s 49ms/step - loss: 2.8074\n",
      "Epoch 79/100\n",
      "405/405 [==============================] - 20s 49ms/step - loss: 2.7910\n",
      "Epoch 80/100\n",
      "405/405 [==============================] - 20s 49ms/step - loss: 2.7757\n",
      "Epoch 81/100\n",
      "405/405 [==============================] - 20s 48ms/step - loss: 2.7598\n",
      "Epoch 82/100\n",
      "405/405 [==============================] - 20s 49ms/step - loss: 2.7391\n",
      "Epoch 83/100\n",
      "405/405 [==============================] - 19s 48ms/step - loss: 2.7184\n",
      "Epoch 84/100\n",
      "405/405 [==============================] - 20s 49ms/step - loss: 2.7012\n",
      "Epoch 85/100\n",
      "405/405 [==============================] - 20s 49ms/step - loss: 2.6875\n",
      "Epoch 86/100\n",
      "405/405 [==============================] - 20s 48ms/step - loss: 2.6674\n",
      "Epoch 87/100\n",
      "405/405 [==============================] - 20s 49ms/step - loss: 2.6552\n",
      "Epoch 88/100\n",
      "405/405 [==============================] - 20s 49ms/step - loss: 2.6418\n",
      "Epoch 89/100\n",
      "405/405 [==============================] - 20s 49ms/step - loss: 2.6245\n",
      "Epoch 90/100\n",
      "405/405 [==============================] - 20s 49ms/step - loss: 2.6151\n",
      "Epoch 91/100\n",
      "405/405 [==============================] - 20s 49ms/step - loss: 2.5972\n",
      "Epoch 92/100\n",
      "405/405 [==============================] - 20s 48ms/step - loss: 2.5842\n",
      "Epoch 93/100\n",
      "405/405 [==============================] - 20s 48ms/step - loss: 2.5608\n",
      "Epoch 94/100\n",
      "405/405 [==============================] - 20s 49ms/step - loss: 2.5506\n",
      "Epoch 95/100\n",
      "405/405 [==============================] - 20s 49ms/step - loss: 2.5382\n",
      "Epoch 96/100\n",
      "405/405 [==============================] - 19s 48ms/step - loss: 2.5287\n",
      "Epoch 97/100\n",
      "405/405 [==============================] - 20s 49ms/step - loss: 2.5080\n",
      "Epoch 98/100\n",
      "405/405 [==============================] - 20s 49ms/step - loss: 2.5006\n",
      "Epoch 99/100\n",
      "405/405 [==============================] - 20s 48ms/step - loss: 2.4831\n",
      "Epoch 100/100\n",
      "405/405 [==============================] - 20s 49ms/step - loss: 2.4656\n"
     ]
    }
   ],
   "source": [
    "history = model.fit(\n",
    "    predictors,\n",
    "    label, \n",
    "    epochs = 100,\n",
    "    batch_size = 128,\n",
    "    verbose = 1)"
   ]
  },
  {
   "attachments": {},
   "cell_type": "markdown",
   "metadata": {},
   "source": [
    "When the model has trained, we can then use this to generate *new text*."
   ]
  },
  {
   "cell_type": "code",
   "execution_count": 18,
   "metadata": {},
   "outputs": [
    {
     "name": "stdout",
     "output_type": "stream",
     "text": [
      "1/1 [==============================] - 0s 329ms/step\n"
     ]
    },
    {
     "name": "stderr",
     "output_type": "stream",
     "text": [
      "2023-03-30 15:56:32.418588: I tensorflow/core/common_runtime/executor.cc:1197] [/device:CPU:0] (DEBUG INFO) Executor start aborting (this does not indicate an error and you can ignore this message): INVALID_ARGUMENT: You must feed a value for placeholder tensor 'gradients/split_2_grad/concat/split_2/split_dim' with dtype int32\n",
      "\t [[{{node gradients/split_2_grad/concat/split_2/split_dim}}]]\n",
      "2023-03-30 15:56:32.420524: I tensorflow/core/common_runtime/executor.cc:1197] [/device:CPU:0] (DEBUG INFO) Executor start aborting (this does not indicate an error and you can ignore this message): INVALID_ARGUMENT: You must feed a value for placeholder tensor 'gradients/split_grad/concat/split/split_dim' with dtype int32\n",
      "\t [[{{node gradients/split_grad/concat/split/split_dim}}]]\n",
      "2023-03-30 15:56:32.421618: I tensorflow/core/common_runtime/executor.cc:1197] [/device:CPU:0] (DEBUG INFO) Executor start aborting (this does not indicate an error and you can ignore this message): INVALID_ARGUMENT: You must feed a value for placeholder tensor 'gradients/split_1_grad/concat/split_1/split_dim' with dtype int32\n",
      "\t [[{{node gradients/split_1_grad/concat/split_1/split_dim}}]]\n"
     ]
    },
    {
     "name": "stdout",
     "output_type": "stream",
     "text": [
      "1/1 [==============================] - 0s 28ms/step\n",
      "1/1 [==============================] - 0s 30ms/step\n",
      "1/1 [==============================] - 0s 27ms/step\n",
      "1/1 [==============================] - 0s 28ms/step\n",
      "Danish Inventor Is Found Guilty In\n"
     ]
    }
   ],
   "source": [
    "print(generate_text(\"danish\", 5, model, max_sequence_len))"
   ]
  },
  {
   "attachments": {},
   "cell_type": "markdown",
   "metadata": {},
   "source": [
    "## Using pre-trained word embeddings"
   ]
  },
  {
   "attachments": {},
   "cell_type": "markdown",
   "metadata": {},
   "source": [
    "Instead of having the embedding layer as a trainable parameter, we can instead using a *pretrained word embedding* model like ```word2vec```.\n",
    "\n",
    "In the following examples, we're using [GloVe embeddings](https://nlp.stanford.edu/projects/glove/). These are trained a little differently from ```word2vec``` but they behave in the same way."
   ]
  },
  {
   "cell_type": "code",
   "execution_count": 19,
   "metadata": {},
   "outputs": [
    {
     "ename": "FileNotFoundError",
     "evalue": "[Errno 2] No such file or directory: 'path/to/glove/vectors'",
     "output_type": "error",
     "traceback": [
      "\u001b[0;31m---------------------------------------------------------------------------\u001b[0m",
      "\u001b[0;31mFileNotFoundError\u001b[0m                         Traceback (most recent call last)",
      "Cell \u001b[0;32mIn[19], line 4\u001b[0m\n\u001b[1;32m      1\u001b[0m path_to_glove_file \u001b[39m=\u001b[39m os\u001b[39m.\u001b[39mpath\u001b[39m.\u001b[39mjoin(\u001b[39m\"\u001b[39m\u001b[39mpath/to/glove/vectors\u001b[39m\u001b[39m\"\u001b[39m)\n\u001b[1;32m      3\u001b[0m embeddings_index \u001b[39m=\u001b[39m {}\n\u001b[0;32m----> 4\u001b[0m \u001b[39mwith\u001b[39;00m \u001b[39mopen\u001b[39;49m(path_to_glove_file) \u001b[39mas\u001b[39;00m f:\n\u001b[1;32m      5\u001b[0m     \u001b[39mfor\u001b[39;00m line \u001b[39min\u001b[39;00m f:\n\u001b[1;32m      6\u001b[0m         word, coefs \u001b[39m=\u001b[39m line\u001b[39m.\u001b[39msplit(maxsplit\u001b[39m=\u001b[39m\u001b[39m1\u001b[39m)\n",
      "File \u001b[0;32m~/.local/lib/python3.9/site-packages/IPython/core/interactiveshell.py:282\u001b[0m, in \u001b[0;36m_modified_open\u001b[0;34m(file, *args, **kwargs)\u001b[0m\n\u001b[1;32m    275\u001b[0m \u001b[39mif\u001b[39;00m file \u001b[39min\u001b[39;00m {\u001b[39m0\u001b[39m, \u001b[39m1\u001b[39m, \u001b[39m2\u001b[39m}:\n\u001b[1;32m    276\u001b[0m     \u001b[39mraise\u001b[39;00m \u001b[39mValueError\u001b[39;00m(\n\u001b[1;32m    277\u001b[0m         \u001b[39mf\u001b[39m\u001b[39m\"\u001b[39m\u001b[39mIPython won\u001b[39m\u001b[39m'\u001b[39m\u001b[39mt let you open fd=\u001b[39m\u001b[39m{\u001b[39;00mfile\u001b[39m}\u001b[39;00m\u001b[39m by default \u001b[39m\u001b[39m\"\u001b[39m\n\u001b[1;32m    278\u001b[0m         \u001b[39m\"\u001b[39m\u001b[39mas it is likely to crash IPython. If you know what you are doing, \u001b[39m\u001b[39m\"\u001b[39m\n\u001b[1;32m    279\u001b[0m         \u001b[39m\"\u001b[39m\u001b[39myou can use builtins\u001b[39m\u001b[39m'\u001b[39m\u001b[39m open.\u001b[39m\u001b[39m\"\u001b[39m\n\u001b[1;32m    280\u001b[0m     )\n\u001b[0;32m--> 282\u001b[0m \u001b[39mreturn\u001b[39;00m io_open(file, \u001b[39m*\u001b[39;49margs, \u001b[39m*\u001b[39;49m\u001b[39m*\u001b[39;49mkwargs)\n",
      "\u001b[0;31mFileNotFoundError\u001b[0m: [Errno 2] No such file or directory: 'path/to/glove/vectors'"
     ]
    }
   ],
   "source": [
    "path_to_glove_file = os.path.join(\"path/to/glove/vectors\")\n",
    "\n",
    "embeddings_index = {}\n",
    "with open(path_to_glove_file) as f:\n",
    "    for line in f:\n",
    "        word, coefs = line.split(maxsplit=1)\n",
    "        coefs = np.fromstring(coefs, \"f\", sep=\" \")\n",
    "        embeddings_index[word] = coefs\n",
    "\n",
    "print(\"Found %s word vectors.\" % len(embeddings_index))"
   ]
  },
  {
   "attachments": {},
   "cell_type": "markdown",
   "metadata": {},
   "source": [
    "We can define some variables that we're going to use later.\n",
    "\n",
    "With hits and misses, we're counting how many words in the corpus vocabulary have a corresponding GloVe embedding; misses are the words which appear in our vocabulary but which do not have a GloVe embedding."
   ]
  },
  {
   "cell_type": "code",
   "execution_count": null,
   "metadata": {},
   "outputs": [],
   "source": [
    "num_tokens = total_words\n",
    "embedding_dim = 100\n",
    "hits = 0\n",
    "misses = 0"
   ]
  },
  {
   "cell_type": "code",
   "execution_count": null,
   "metadata": {},
   "outputs": [],
   "source": [
    "# Prepare embedding matrix\n",
    "embedding_matrix = np.zeros((num_tokens, embedding_dim))\n",
    "for word, i in tokenizer.word_index.items():\n",
    "    embedding_vector = embeddings_index.get(word)\n",
    "    if embedding_vector is not None:\n",
    "        # Words not found in embedding index will be all-zeros.\n",
    "        # This includes the representation for \"padding\" and \"OOV\"\n",
    "        embedding_matrix[i] = embedding_vector\n",
    "        hits += 1\n",
    "    else:\n",
    "        misses += 1\n",
    "print(\"Converted %d words (%d misses)\" % (hits, misses))"
   ]
  },
  {
   "cell_type": "code",
   "execution_count": null,
   "metadata": {},
   "outputs": [],
   "source": [
    "def create_model(max_sequence_len, total_words):\n",
    "    input_len = max_sequence_len - 1\n",
    "    model = Sequential()\n",
    "    \n",
    "    # Add Input Embedding Layer - notice that this is different\n",
    "    model.add(Embedding(\n",
    "            total_words,\n",
    "            embedding_dim,\n",
    "            embeddings_initializer=tf.keras.initializers.Constant(embedding_matrix),\n",
    "            trainable=False,\n",
    "            input_length=input_len)\n",
    "    )\n",
    "    \n",
    "    # Add Hidden Layer 1 - LSTM Layer\n",
    "    model.add(LSTM(500))\n",
    "    model.add(Dropout(0.2))\n",
    "    \n",
    "    # Add Output Layer\n",
    "    model.add(Dense(total_words, \n",
    "                    activation='softmax'))\n",
    "\n",
    "    model.compile(loss='categorical_crossentropy', \n",
    "                    optimizer='adam')\n",
    "    \n",
    "    return model"
   ]
  },
  {
   "cell_type": "code",
   "execution_count": null,
   "metadata": {},
   "outputs": [],
   "source": [
    "model = create_model(max_sequence_len, total_words)\n",
    "model.summary()"
   ]
  },
  {
   "cell_type": "code",
   "execution_count": null,
   "metadata": {},
   "outputs": [],
   "source": [
    "history = model.fit(predictors, \n",
    "                    label, \n",
    "                    epochs=100,\n",
    "                    batch_size=128, \n",
    "                    verbose=1)"
   ]
  },
  {
   "cell_type": "code",
   "execution_count": null,
   "metadata": {},
   "outputs": [],
   "source": [
    "print (generate_text(\"china\", 30, model, max_sequence_len))"
   ]
  }
 ],
 "metadata": {
  "kernelspec": {
   "display_name": "Python 3",
   "language": "python",
   "name": "python3"
  },
  "language_info": {
   "codemirror_mode": {
    "name": "ipython",
    "version": 3
   },
   "file_extension": ".py",
   "mimetype": "text/x-python",
   "name": "python",
   "nbconvert_exporter": "python",
   "pygments_lexer": "ipython3",
   "version": "3.9.2"
  },
  "orig_nbformat": 4,
  "vscode": {
   "interpreter": {
    "hash": "767d51c1340bd893661ea55ea3124f6de3c7a262a8b4abca0554b478b1e2ff90"
   }
  }
 },
 "nbformat": 4,
 "nbformat_minor": 2
}
