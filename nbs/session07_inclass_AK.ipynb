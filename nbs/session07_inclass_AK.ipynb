{
  "cells": [
    {
      "cell_type": "markdown",
      "metadata": {
        "id": "hX4n9TsbGw-f"
      },
      "source": [
        "##### Copyright 2018 The TensorFlow Authors."
      ]
    },
    {
      "cell_type": "code",
      "execution_count": null,
      "metadata": {
        "cellView": "form",
        "id": "0nbI5DtDGw-i"
      },
      "outputs": [],
      "source": [
        "#@title Licensed under the Apache License, Version 2.0 (the \"License\");\n",
        "# you may not use this file except in compliance with the License.\n",
        "# You may obtain a copy of the License at\n",
        "#\n",
        "# https://www.apache.org/licenses/LICENSE-2.0\n",
        "#\n",
        "# Unless required by applicable law or agreed to in writing, software\n",
        "# distributed under the License is distributed on an \"AS IS\" BASIS,\n",
        "# WITHOUT WARRANTIES OR CONDITIONS OF ANY KIND, either express or implied.\n",
        "# See the License for the specific language governing permissions and\n",
        "# limitations under the License."
      ]
    },
    {
      "cell_type": "markdown",
      "metadata": {
        "id": "9TnJztDZGw-n"
      },
      "source": [
        "# Text classification with an RNN"
      ]
    },
    {
      "cell_type": "markdown",
      "metadata": {
        "id": "AfN3bMR5Gw-o"
      },
      "source": [
        "<table class=\"tfo-notebook-buttons\" align=\"left\">\n",
        "  <td>\n",
        "    <a target=\"_blank\" href=\"https://www.tensorflow.org/text/tutorials/text_classification_rnn\"><img src=\"https://www.tensorflow.org/images/tf_logo_32px.png\" />View on TensorFlow.org</a>\n",
        "  </td>\n",
        "  <td>\n",
        "    <a target=\"_blank\" href=\"https://colab.research.google.com/github/tensorflow/text/blob/master/docs/tutorials/text_classification_rnn.ipynb\"><img src=\"https://www.tensorflow.org/images/colab_logo_32px.png\" />Run in Google Colab</a>\n",
        "  </td>\n",
        "  <td>\n",
        "    <a target=\"_blank\" href=\"https://github.com/tensorflow/text/blob/master/docs/tutorials/text_classification_rnn.ipynb\"><img src=\"https://www.tensorflow.org/images/GitHub-Mark-32px.png\" />View source on GitHub</a>\n",
        "  </td>\n",
        "  <td>\n",
        "    <a href=\"https://storage.googleapis.com/tensorflow_docs/text/docs/tutorials/text_classification_rnn.ipynb\"><img src=\"https://www.tensorflow.org/images/download_logo_32px.png\" />Download notebook</a>\n",
        "  </td>\n",
        "</table>"
      ]
    },
    {
      "cell_type": "markdown",
      "metadata": {
        "id": "lUWearf0Gw-p"
      },
      "source": [
        "This text classification tutorial trains a [recurrent neural network](https://developers.google.com/machine-learning/glossary/#recurrent_neural_network) on the [IMDB large movie review dataset](http://ai.stanford.edu/~amaas/data/sentiment/) for sentiment analysis."
      ]
    },
    {
      "cell_type": "markdown",
      "metadata": {
        "id": "_2VQo4bajwUU"
      },
      "source": [
        "## Setup"
      ]
    },
    {
      "cell_type": "code",
      "execution_count": 1,
      "metadata": {
        "id": "z682XYsrjkY9"
      },
      "outputs": [
        {
          "name": "stderr",
          "output_type": "stream",
          "text": [
            "/home/coder/.local/lib/python3.9/site-packages/tqdm/auto.py:21: TqdmWarning: IProgress not found. Please update jupyter and ipywidgets. See https://ipywidgets.readthedocs.io/en/stable/user_install.html\n",
            "  from .autonotebook import tqdm as notebook_tqdm\n",
            "2023-03-30 09:47:50.598713: I tensorflow/tsl/cuda/cudart_stub.cc:28] Could not find cuda drivers on your machine, GPU will not be used.\n",
            "2023-03-30 09:47:50.645324: I tensorflow/tsl/cuda/cudart_stub.cc:28] Could not find cuda drivers on your machine, GPU will not be used.\n",
            "2023-03-30 09:47:50.646810: I tensorflow/core/platform/cpu_feature_guard.cc:182] This TensorFlow binary is optimized to use available CPU instructions in performance-critical operations.\n",
            "To enable the following instructions: AVX2 AVX512F FMA, in other operations, rebuild TensorFlow with the appropriate compiler flags.\n",
            "2023-03-30 09:47:51.371055: W tensorflow/compiler/tf2tensorrt/utils/py_utils.cc:38] TF-TRT Warning: Could not find TensorRT\n"
          ]
        }
      ],
      "source": [
        "import numpy as np\n",
        "\n",
        "import tensorflow_datasets as tfds\n",
        "import tensorflow as tf\n",
        "\n",
        "tfds.disable_progress_bar()"
      ]
    },
    {
      "cell_type": "markdown",
      "metadata": {
        "id": "1rXHa-w9JZhb"
      },
      "source": [
        "Import `matplotlib` and create a helper function to plot graphs:"
      ]
    },
    {
      "cell_type": "code",
      "execution_count": 3,
      "metadata": {
        "id": "Mp1Z7P9pYRSK"
      },
      "outputs": [],
      "source": [
        "import matplotlib.pyplot as plt\n",
        "\n",
        "\n",
        "def plot_graphs(history, metric): # history = performance during training\n",
        "  plt.plot(history.history[metric]) # plot metric value for each point in history\n",
        "  plt.plot(history.history['val_' + metric], '')\n",
        "  plt.xlabel(\"Epochs\")\n",
        "  plt.ylabel(metric)\n",
        "  plt.legend([metric, 'val_' + metric])"
      ]
    },
    {
      "cell_type": "markdown",
      "metadata": {
        "id": "pRmMubr0jrE2"
      },
      "source": [
        "## Setup input pipeline\n",
        "\n",
        "\n",
        "The IMDB large movie review dataset is a *binary classification* dataset—all the reviews have either a *positive* or *negative* sentiment.\n",
        "\n",
        "Download the dataset using [TFDS](https://www.tensorflow.org/datasets). See the [loading text tutorial](https://www.tensorflow.org/tutorials/load_data/text) for details on how to load this sort of data manually.\n"
      ]
    },
    {
      "cell_type": "code",
      "execution_count": 4,
      "metadata": {
        "id": "SHRwRoP2nVHX"
      },
      "outputs": [
        {
          "name": "stdout",
          "output_type": "stream",
          "text": [
            "\u001b[1mDownloading and preparing dataset Unknown size (download: Unknown size, generated: Unknown size, total: Unknown size) to /home/coder/tensorflow_datasets/imdb_reviews/plain_text/1.0.0...\u001b[0m\n"
          ]
        },
        {
          "name": "stderr",
          "output_type": "stream",
          "text": [
            "2023-03-30 09:50:23.800799: W tensorflow/tsl/platform/cloud/google_auth_provider.cc:184] All attempts to get a Google authentication bearer token failed, returning an empty token. Retrieving token from files failed with \"NOT_FOUND: Could not locate the credentials file.\". Retrieving token from GCE failed with \"FAILED_PRECONDITION: Error executing an HTTP request: libcurl code 6 meaning 'Couldn't resolve host name', error details: Could not resolve host: metadata.google.internal\".\n"
          ]
        },
        {
          "name": "stdout",
          "output_type": "stream",
          "text": [
            "\u001b[1mDataset imdb_reviews downloaded and prepared to /home/coder/tensorflow_datasets/imdb_reviews/plain_text/1.0.0. Subsequent calls will reuse this data.\u001b[0m\n"
          ]
        },
        {
          "data": {
            "text/plain": [
              "(TensorSpec(shape=(), dtype=tf.string, name=None),\n",
              " TensorSpec(shape=(), dtype=tf.int64, name=None))"
            ]
          },
          "execution_count": 4,
          "metadata": {},
          "output_type": "execute_result"
        }
      ],
      "source": [
        "dataset, info = tfds.load(\n",
        "    'imdb_reviews', \n",
        "    with_info = True,\n",
        "    as_supervised=True)\n",
        "\n",
        "train_dataset, test_dataset = dataset['train'], dataset['test']\n",
        "\n",
        "train_dataset.element_spec"
      ]
    },
    {
      "cell_type": "markdown",
      "metadata": {
        "id": "nWA4c2ir7g6p"
      },
      "source": [
        "Initially this returns a dataset of (text, label pairs):"
      ]
    },
    {
      "cell_type": "code",
      "execution_count": 5,
      "metadata": {
        "id": "vd4_BGKyurao"
      },
      "outputs": [
        {
          "name": "stdout",
          "output_type": "stream",
          "text": [
            "text:  b\"This was an absolutely terrible movie. Don't be lured in by Christopher Walken or Michael Ironside. Both are great actors, but this must simply be their worst role in history. Even their great acting could not redeem this movie's ridiculous storyline. This movie is an early nineties US propaganda piece. The most pathetic scenes were those when the Columbian rebels were making their cases for revolutions. Maria Conchita Alonso appeared phony, and her pseudo-love affair with Walken was nothing but a pathetic emotional plug in a movie that was devoid of any real meaning. I am disappointed that there are movies like this, ruining actor's like Christopher Walken's good name. I could barely sit through it.\"\n",
            "label:  0\n"
          ]
        },
        {
          "name": "stderr",
          "output_type": "stream",
          "text": [
            "2023-03-30 09:51:21.059591: I tensorflow/core/common_runtime/executor.cc:1197] [/device:CPU:0] (DEBUG INFO) Executor start aborting (this does not indicate an error and you can ignore this message): INVALID_ARGUMENT: You must feed a value for placeholder tensor 'Placeholder/_3' with dtype int64 and shape [1]\n",
            "\t [[{{node Placeholder/_3}}]]\n",
            "2023-03-30 09:51:21.060214: I tensorflow/core/common_runtime/executor.cc:1197] [/device:CPU:0] (DEBUG INFO) Executor start aborting (this does not indicate an error and you can ignore this message): INVALID_ARGUMENT: You must feed a value for placeholder tensor 'Placeholder/_0' with dtype string and shape [1]\n",
            "\t [[{{node Placeholder/_0}}]]\n",
            "2023-03-30 09:51:21.126166: W tensorflow/core/kernels/data/cache_dataset_ops.cc:856] The calling iterator did not fully read the dataset being cached. In order to avoid unexpected truncation of the dataset, the partially cached contents of the dataset  will be discarded. This can happen if you have an input pipeline similar to `dataset.cache().take(k).repeat()`. You should use `dataset.take(k).cache().repeat()` instead.\n"
          ]
        }
      ],
      "source": [
        "for example, label in train_dataset.take(1):\n",
        "  print(\n",
        "    'text: ', \n",
        "    example.numpy())\n",
        "  print(\n",
        "    'label: ', \n",
        "    label.numpy())"
      ]
    },
    {
      "cell_type": "markdown",
      "metadata": {
        "id": "z2qVJzcEluH_"
      },
      "source": [
        "Next shuffle the data for training and create batches of these `(text, label)` pairs:"
      ]
    },
    {
      "cell_type": "code",
      "execution_count": 6,
      "metadata": {
        "id": "dDsCaZCDYZgm"
      },
      "outputs": [],
      "source": [
        "# The data contains 25000 data points. From this we randomly draw a \n",
        "# buffer pool of 10000. Then from this we randomly draw a batch of 64 \n",
        "# to train the model. Buffer and batch represent a tradeoff between \n",
        "# memory and performance for the computer. Using a small buffer means \n",
        "# the computer has to shuffle less data at any given point in time \n",
        "# (since it is this buffer that the batches have to randomly be drawn\n",
        "# from, which in the case of a large buffer can be very computationally\n",
        "# expensive), but having a too small buffer means that you are essenti-\n",
        "# ally reshuffling the same small pool of data and you will experience\n",
        "# drastic drops in performance after a few goes.\n",
        "BUFFER_SIZE = 10000\n",
        "BATCH_SIZE = 64"
      ]
    },
    {
      "cell_type": "code",
      "execution_count": 7,
      "metadata": {
        "id": "VznrltNOnUc5"
      },
      "outputs": [],
      "source": [
        "train_dataset = train_dataset.shuffle(BUFFER_SIZE).batch(BATCH_SIZE).prefetch(tf.data.AUTOTUNE)\n",
        "test_dataset = test_dataset.batch(BATCH_SIZE).prefetch(tf.data.AUTOTUNE)"
      ]
    },
    {
      "cell_type": "code",
      "execution_count": 8,
      "metadata": {
        "id": "jqkvdcFv41wC"
      },
      "outputs": [
        {
          "name": "stderr",
          "output_type": "stream",
          "text": [
            "2023-03-30 10:02:23.864036: I tensorflow/core/common_runtime/executor.cc:1197] [/device:CPU:0] (DEBUG INFO) Executor start aborting (this does not indicate an error and you can ignore this message): INVALID_ARGUMENT: You must feed a value for placeholder tensor 'Placeholder/_4' with dtype int64 and shape [1]\n",
            "\t [[{{node Placeholder/_4}}]]\n",
            "2023-03-30 10:02:23.864752: I tensorflow/core/common_runtime/executor.cc:1197] [/device:CPU:0] (DEBUG INFO) Executor start aborting (this does not indicate an error and you can ignore this message): INVALID_ARGUMENT: You must feed a value for placeholder tensor 'Placeholder/_3' with dtype int64 and shape [1]\n",
            "\t [[{{node Placeholder/_3}}]]\n"
          ]
        },
        {
          "name": "stdout",
          "output_type": "stream",
          "text": [
            "texts:  [b'1914 was an amazing year for Charlie Chaplin. It was his first year in films and he appeared in more than 30 films! While most of these films weren\\'t particularly good, they did give him a chance to slowly evolve his screen persona. However, by this film, the familiar \"Little Tramp\" character was still in development. Sure Charlie looked the part, but his character still lacked the sweetness and decency that he later developed. Instead, Chaplin often hit, kicked or did other nasty things to people for seemingly no reason at all.<br /><br />As for this very slight film, it is interesting to watch for the cast. While they are not familiar today, Chaplin stars along with Mabel Normand, Chester Conklin and Mack Swain--all exceptionally popular stars with Keystone Films. The problem with this film is that while it has a few nice scenes, the plot seems very vague and improperly developed. Chester and Mabel got to the race track (a very common theme in Keystone productions--it must have been located near a race track). Charlie and Mack show up and sneak in. Mack is chased by the police for doing this while Charlie slaps Chester around and steals his girl. In the end, for no apparent reason, the cops take Chester and Mack away--leaving Charlie with Mabel (who, oddly, didn\\'t seem put off by Charlie\\'s boorish behaviors).<br /><br />Unless you are a huge silent comedy buff or film historian, this is a very forgettable film that is only important in the evolution of Chaplin. What he and the other actors actually do on stage, while not unusual for a Keystone film, isn\\'t particularly funny when seen today.'\n",
            " b'In one of her first movies, Romy Schneider shines as young queen Victoria of Britain, as she is suddenly put into the throne at the age of 18, learns to govern despite the machinations of the politicians, and eventually romances and marries Prince Albert of Saxony. Kitschy and campy (though surprisingly faithful to the real events), this romantic piece is irresistible. Seeing this movie about British royals spoken in German adds to its quaint charm. On that front, one wonders why an Austrian movie was made about an English queen; but then one remembers that in 1954, Austria was still under occupation by allied troops, including British ones. Maybe this was one of the reasons for the existence of this film.'\n",
            " b'Unlike another user who said this movie sucked (and that Olivia Hussey was terrible), I disagree.<br /><br />This movie was amazing!!!!!! Olivia Hussey is awesome in everything she\\'s in! Yeah she may be older now, because many remember her from Romeo and Juliet, but she\\'s wonderful! <br /><br />This story line may be used quite often, but it\\'s a unique movie and I\\'ll fight back on anyone who disagrees! I enjoyed this movie just as much as I have any other Olivia Hussey movie. Olivia\\'s \"my girl\" and I love her work.<br /><br />I saw this for the first time on Saturday (4/14/07) and fell in love with it. Not only because\\'s it\\'s an Olivia movie, but because of it\\'s unique story line and wonderful direction.']\n",
            "\n",
            "labels:  [0 1 1]\n"
          ]
        },
        {
          "name": "stderr",
          "output_type": "stream",
          "text": [
            "2023-03-30 10:02:24.216678: W tensorflow/core/kernels/data/cache_dataset_ops.cc:856] The calling iterator did not fully read the dataset being cached. In order to avoid unexpected truncation of the dataset, the partially cached contents of the dataset  will be discarded. This can happen if you have an input pipeline similar to `dataset.cache().take(k).repeat()`. You should use `dataset.take(k).cache().repeat()` instead.\n"
          ]
        }
      ],
      "source": [
        "for example, label in train_dataset.take(1):\n",
        "  print('texts: ', example.numpy()[:3])\n",
        "  print()\n",
        "  print('labels: ', label.numpy()[:3])"
      ]
    },
    {
      "cell_type": "markdown",
      "metadata": {
        "id": "s5eWCo88voPY"
      },
      "source": [
        "## Create the text encoder"
      ]
    },
    {
      "cell_type": "markdown",
      "metadata": {
        "id": "TFevcItw15P_"
      },
      "source": [
        "The raw text loaded by `tfds` needs to be processed before it can be used in a model. The simplest way to process text for training is using the `TextVectorization` layer. This layer has many capabilities, but this tutorial sticks to the default behavior.\n",
        "\n",
        "Create the layer, and pass the dataset's text to the layer's `.adapt` method:"
      ]
    },
    {
      "cell_type": "code",
      "execution_count": 9,
      "metadata": {
        "id": "uC25Lu1Yvuqy"
      },
      "outputs": [
        {
          "name": "stderr",
          "output_type": "stream",
          "text": [
            "2023-03-30 10:49:07.907510: I tensorflow/core/common_runtime/executor.cc:1197] [/device:CPU:0] (DEBUG INFO) Executor start aborting (this does not indicate an error and you can ignore this message): INVALID_ARGUMENT: You must feed a value for placeholder tensor 'Placeholder/_3' with dtype int64 and shape [1]\n",
            "\t [[{{node Placeholder/_3}}]]\n",
            "2023-03-30 10:49:07.907949: I tensorflow/core/common_runtime/executor.cc:1197] [/device:CPU:0] (DEBUG INFO) Executor start aborting (this does not indicate an error and you can ignore this message): INVALID_ARGUMENT: You must feed a value for placeholder tensor 'Placeholder/_3' with dtype int64 and shape [1]\n",
            "\t [[{{node Placeholder/_3}}]]\n"
          ]
        }
      ],
      "source": [
        "VOCAB_SIZE = 1000 # only 1000 most frequent words; \n",
        "# to each word a unique int value 0-1000 is assigned for indexing\n",
        "encoder = tf.keras.layers.TextVectorization(\n",
        "    max_tokens = VOCAB_SIZE)\n",
        "encoder.adapt( # analyzes the dataset and creates a vocabulary from it\n",
        "    train_dataset.map(\n",
        "        lambda text, \n",
        "        label: text))"
      ]
    },
    {
      "cell_type": "markdown",
      "metadata": {
        "id": "IuQzVBbe3Ldu"
      },
      "source": [
        "The `.adapt` method sets the layer's vocabulary. Here are the first 20 tokens. After the padding and unknown tokens they're sorted by frequency: "
      ]
    },
    {
      "cell_type": "code",
      "execution_count": 10,
      "metadata": {
        "id": "tBoyjjWg0Ac9"
      },
      "outputs": [
        {
          "data": {
            "text/plain": [
              "array(['', '[UNK]', 'the', 'and', 'a', 'of', 'to', 'is', 'in', 'it', 'i',\n",
              "       'this', 'that', 'br', 'was', 'as', 'for', 'with', 'movie', 'but'],\n",
              "      dtype='<U14')"
            ]
          },
          "execution_count": 10,
          "metadata": {},
          "output_type": "execute_result"
        }
      ],
      "source": [
        "vocab = np.array(encoder.get_vocabulary())\n",
        "vocab[:20]"
      ]
    },
    {
      "cell_type": "markdown",
      "metadata": {
        "id": "mjId5pua3jHQ"
      },
      "source": [
        "Once the vocabulary is set, the layer can encode text into indices. The tensors of indices are 0-padded to the longest sequence in the batch (unless you set a fixed `output_sequence_length`):"
      ]
    },
    {
      "cell_type": "code",
      "execution_count": 17,
      "metadata": {
        "id": "RGc7C9WiwRWs"
      },
      "outputs": [
        {
          "data": {
            "text/plain": [
              "array([[  1,  14,  34, ...,   0,   0,   0],\n",
              "       [  8,  29,   5, ...,   0,   0,   0],\n",
              "       [994, 154,   1, ...,   0,   0,   0]])"
            ]
          },
          "execution_count": 17,
          "metadata": {},
          "output_type": "execute_result"
        }
      ],
      "source": [
        "encoded_example = encoder(example)[:3].numpy()\n",
        "encoded_example\n",
        "# The words that are not part of the 1000 most common words are removed.\n",
        "# The words that stayed are in order. The length of the vector is the\n",
        "# length of the longest document; for shorter documents, the end of the\n",
        "# vector is padded with 0s."
      ]
    },
    {
      "cell_type": "markdown",
      "metadata": {
        "id": "F5cjz0bS39IN"
      },
      "source": [
        "With the default settings, the process is not completely reversible. There are three main reasons for that:\n",
        "\n",
        "1. The default value for `preprocessing.TextVectorization`'s `standardize` argument is `\"lower_and_strip_punctuation\"`.\n",
        "2. The limited vocabulary size and lack of character-based fallback results in some unknown tokens."
      ]
    },
    {
      "cell_type": "code",
      "execution_count": 18,
      "metadata": {
        "id": "N_tD0QY5wXaK"
      },
      "outputs": [
        {
          "name": "stdout",
          "output_type": "stream",
          "text": [
            "Original:  b'1914 was an amazing year for Charlie Chaplin. It was his first year in films and he appeared in more than 30 films! While most of these films weren\\'t particularly good, they did give him a chance to slowly evolve his screen persona. However, by this film, the familiar \"Little Tramp\" character was still in development. Sure Charlie looked the part, but his character still lacked the sweetness and decency that he later developed. Instead, Chaplin often hit, kicked or did other nasty things to people for seemingly no reason at all.<br /><br />As for this very slight film, it is interesting to watch for the cast. While they are not familiar today, Chaplin stars along with Mabel Normand, Chester Conklin and Mack Swain--all exceptionally popular stars with Keystone Films. The problem with this film is that while it has a few nice scenes, the plot seems very vague and improperly developed. Chester and Mabel got to the race track (a very common theme in Keystone productions--it must have been located near a race track). Charlie and Mack show up and sneak in. Mack is chased by the police for doing this while Charlie slaps Chester around and steals his girl. In the end, for no apparent reason, the cops take Chester and Mack away--leaving Charlie with Mabel (who, oddly, didn\\'t seem put off by Charlie\\'s boorish behaviors).<br /><br />Unless you are a huge silent comedy buff or film historian, this is a very forgettable film that is only important in the evolution of Chaplin. What he and the other actors actually do on stage, while not unusual for a Keystone film, isn\\'t particularly funny when seen today.'\n",
            "Round-trip:  [UNK] was an amazing year for [UNK] [UNK] it was his first year in films and he [UNK] in more than [UNK] films while most of these films [UNK] particularly good they did give him a chance to [UNK] [UNK] his screen [UNK] however by this film the [UNK] little [UNK] character was still in development sure [UNK] looked the part but his character still [UNK] the [UNK] and [UNK] that he later [UNK] instead [UNK] often hit [UNK] or did other [UNK] things to people for [UNK] no reason at [UNK] br as for this very [UNK] film it is interesting to watch for the cast while they are not [UNK] today [UNK] stars along with [UNK] [UNK] [UNK] [UNK] and [UNK] [UNK] [UNK] [UNK] stars with [UNK] films the problem with this film is that while it has a few nice scenes the plot seems very [UNK] and [UNK] [UNK] [UNK] and [UNK] got to the [UNK] [UNK] a very [UNK] theme in [UNK] [UNK] must have been [UNK] near a [UNK] [UNK] [UNK] and [UNK] show up and [UNK] in [UNK] is [UNK] by the police for doing this while [UNK] [UNK] [UNK] around and [UNK] his girl in the end for no [UNK] reason the [UNK] take [UNK] and [UNK] [UNK] [UNK] with [UNK] who [UNK] didnt seem put off by [UNK] [UNK] [UNK] br unless you are a huge [UNK] comedy [UNK] or film [UNK] this is a very [UNK] film that is only important in the [UNK] of [UNK] what he and the other actors actually do on stage while not [UNK] for a [UNK] film isnt particularly funny when seen today                                                                                                                                                                                                                                                                                                                                                                                                                                                                                                                                                                        \n",
            "\n",
            "Original:  b'In one of her first movies, Romy Schneider shines as young queen Victoria of Britain, as she is suddenly put into the throne at the age of 18, learns to govern despite the machinations of the politicians, and eventually romances and marries Prince Albert of Saxony. Kitschy and campy (though surprisingly faithful to the real events), this romantic piece is irresistible. Seeing this movie about British royals spoken in German adds to its quaint charm. On that front, one wonders why an Austrian movie was made about an English queen; but then one remembers that in 1954, Austria was still under occupation by allied troops, including British ones. Maybe this was one of the reasons for the existence of this film.'\n",
            "Round-trip:  in one of her first movies [UNK] [UNK] [UNK] as young [UNK] [UNK] of [UNK] as she is [UNK] put into the [UNK] at the age of [UNK] [UNK] to [UNK] despite the [UNK] of the [UNK] and eventually [UNK] and [UNK] [UNK] [UNK] of [UNK] [UNK] and [UNK] though [UNK] [UNK] to the real events this romantic piece is [UNK] seeing this movie about british [UNK] [UNK] in [UNK] [UNK] to its [UNK] [UNK] on that [UNK] one [UNK] why an [UNK] movie was made about an english [UNK] but then one [UNK] that in [UNK] [UNK] was still under [UNK] by [UNK] [UNK] including british ones maybe this was one of the [UNK] for the [UNK] of this film                                                                                                                                                                                                                                                                                                                                                                                                                                                                                                                                                                                                                                                                                                                                     \n",
            "\n",
            "Original:  b'Unlike another user who said this movie sucked (and that Olivia Hussey was terrible), I disagree.<br /><br />This movie was amazing!!!!!! Olivia Hussey is awesome in everything she\\'s in! Yeah she may be older now, because many remember her from Romeo and Juliet, but she\\'s wonderful! <br /><br />This story line may be used quite often, but it\\'s a unique movie and I\\'ll fight back on anyone who disagrees! I enjoyed this movie just as much as I have any other Olivia Hussey movie. Olivia\\'s \"my girl\" and I love her work.<br /><br />I saw this for the first time on Saturday (4/14/07) and fell in love with it. Not only because\\'s it\\'s an Olivia movie, but because of it\\'s unique story line and wonderful direction.'\n",
            "Round-trip:  unlike another [UNK] who said this movie [UNK] and that [UNK] [UNK] was terrible i [UNK] br this movie was amazing [UNK] [UNK] is [UNK] in everything shes in [UNK] she may be older now because many remember her from [UNK] and [UNK] but shes wonderful br br this story line may be used quite often but its a unique movie and ill fight back on anyone who [UNK] i enjoyed this movie just as much as i have any other [UNK] [UNK] movie [UNK] my girl and i love her [UNK] br i saw this for the first time on [UNK] [UNK] and [UNK] in love with it not only [UNK] its an [UNK] movie but because of its unique story line and wonderful direction                                                                                                                                                                                                                                                                                                                                                                                                                                                                                                                                                                                                                                                                                                                                \n",
            "\n"
          ]
        }
      ],
      "source": [
        "for n in range(3):\n",
        "  print(\"Original: \", example[n].numpy())\n",
        "  print(\"Round-trip: \", \" \".join(vocab[encoded_example[n]]))\n",
        "  print()"
      ]
    },
    {
      "cell_type": "markdown",
      "metadata": {
        "id": "bjUqGVBxGw-t"
      },
      "source": [
        "## Create the model"
      ]
    },
    {
      "cell_type": "markdown",
      "metadata": {
        "id": "W7zsmInBOCPO"
      },
      "source": [
        "![A drawing of the information flow in the model](images/bidirectional.png)"
      ]
    },
    {
      "cell_type": "markdown",
      "metadata": {
        "id": "bgs6nnSTGw-t"
      },
      "source": [
        "Above is a diagram of the model. \n",
        "\n",
        "1. This model can be build as a `tf.keras.Sequential`.\n",
        "\n",
        "2. The first layer is the `encoder`, which converts the text to a sequence of token indices.\n",
        "\n",
        "3. After the encoder is an embedding layer. An embedding layer stores one vector per word. When called, it converts the sequences of word indices to sequences of vectors. These vectors are trainable. After training (on enough data), words with similar meanings often have similar vectors.\n",
        "\n",
        "  This index-lookup is much more efficient than the equivalent operation of passing a one-hot encoded vector through a `tf.keras.layers.Dense` layer.\n",
        "\n",
        "4. A recurrent neural network (RNN) processes sequence input by iterating through the elements. RNNs pass the outputs from one timestep to their input on the next timestep.\n",
        "\n",
        "  The `tf.keras.layers.Bidirectional` wrapper can also be used with an RNN layer. This propagates the input forward and backwards through the RNN layer and then concatenates the final output. \n",
        "\n",
        "  * The main advantage of a bidirectional RNN is that the signal from the beginning of the input doesn't need to be processed all the way through every timestep to affect the output.  \n",
        "\n",
        "  * The main disadvantage of a bidirectional RNN is that you can't efficiently stream predictions as words are being added to the end.\n",
        "\n",
        "5. After the RNN has converted the sequence to a single vector the two `layers.Dense` do some final processing, and convert from this vector representation to a single logit as the classification output. \n"
      ]
    },
    {
      "cell_type": "markdown",
      "metadata": {
        "id": "V4fodCI7soQi"
      },
      "source": [
        "The code to implement this is below:"
      ]
    },
    {
      "cell_type": "code",
      "execution_count": 19,
      "metadata": {
        "id": "LwfoBkmRYcP3"
      },
      "outputs": [],
      "source": [
        "model = tf.keras.Sequential([\n",
        "    encoder,\n",
        "    tf.keras.layers.Embedding(\n",
        "        input_dim = len(\n",
        "            encoder.get_vocabulary()),\n",
        "        output_dim = 64,\n",
        "        # Use masking to handle the variable sequence lengths\n",
        "        mask_zero = True),\n",
        "    tf.keras.layers.Bidirectional(\n",
        "        tf.keras.layers.LSTM(\n",
        "            64)),\n",
        "    tf.keras.layers.Dense(\n",
        "        64, \n",
        "        activation = 'relu'),\n",
        "    tf.keras.layers.Dense(\n",
        "        1)\n",
        "])"
      ]
    },
    {
      "cell_type": "markdown",
      "metadata": {
        "id": "QIGmIGkkouUb"
      },
      "source": [
        "Please note that Keras sequential model is used here since all the layers in the model only have single input and produce single output. In case you want to use stateful RNN layer, you might want to build your model with Keras functional API or model subclassing so that you can retrieve and reuse the RNN layer states. Please check [Keras RNN guide](https://www.tensorflow.org/guide/keras/rnn#rnn_state_reuse) for more details."
      ]
    },
    {
      "cell_type": "markdown",
      "metadata": {
        "id": "kF-PsCk1LwjY"
      },
      "source": [
        "The embedding layer [uses masking](https://www.tensorflow.org/guide/keras/masking_and_padding) to handle the varying sequence-lengths. All the layers after the `Embedding` support masking:"
      ]
    },
    {
      "cell_type": "code",
      "execution_count": 20,
      "metadata": {
        "id": "87a8-CwfKebw"
      },
      "outputs": [
        {
          "name": "stdout",
          "output_type": "stream",
          "text": [
            "[False, True, True, True, True]\n"
          ]
        }
      ],
      "source": [
        "print([layer.supports_masking for layer in model.layers])"
      ]
    },
    {
      "cell_type": "markdown",
      "metadata": {
        "id": "ZlS0iaUIWLpI"
      },
      "source": [
        "To confirm that this works as expected, evaluate a sentence twice. First, alone so there's no padding to mask:"
      ]
    },
    {
      "cell_type": "code",
      "execution_count": 21,
      "metadata": {
        "id": "O41gw3KfWHus"
      },
      "outputs": [
        {
          "name": "stdout",
          "output_type": "stream",
          "text": [
            "1/1 [==============================] - 2s 2s/step\n",
            "[-0.00671053]\n"
          ]
        }
      ],
      "source": [
        "# predict on a sample text without padding.\n",
        "\n",
        "sample_text = ('The movie was cool. The animation and the graphics '\n",
        "               'were out of this world. I would recommend this movie.')\n",
        "predictions = model.predict(\n",
        "    np.array([\n",
        "        sample_text]))\n",
        "print(predictions[0])"
      ]
    },
    {
      "cell_type": "markdown",
      "metadata": {
        "id": "K0VQmGnEWcuz"
      },
      "source": [
        "Now, evaluate it again in a batch with a longer sentence. The result should be identical:"
      ]
    },
    {
      "cell_type": "code",
      "execution_count": 22,
      "metadata": {
        "id": "UIgpuTeFNDzq"
      },
      "outputs": [
        {
          "name": "stdout",
          "output_type": "stream",
          "text": [
            "1/1 [==============================] - 0s 234ms/step\n",
            "[-0.00671053]\n"
          ]
        }
      ],
      "source": [
        "# predict on a sample text with padding\n",
        "# padding = we just add random words (fx in order to make text of same length)\n",
        "padding = \"the \" * 2000\n",
        "predictions = model.predict(\n",
        "    np.array([sample_text, padding]))\n",
        "print(predictions[0])"
      ]
    },
    {
      "cell_type": "markdown",
      "metadata": {
        "id": "sRI776ZcH3Tf"
      },
      "source": [
        "Compile the Keras model to configure the training process:"
      ]
    },
    {
      "cell_type": "code",
      "execution_count": 23,
      "metadata": {
        "id": "kj2xei41YZjC"
      },
      "outputs": [],
      "source": [
        "model.compile(\n",
        "    loss = tf.keras.losses.BinaryCrossentropy(\n",
        "        from_logits = True),\n",
        "        optimizer = tf.keras.optimizers.Adam(\n",
        "            1e-4),\n",
        "            metrics=['accuracy'])"
      ]
    },
    {
      "cell_type": "markdown",
      "metadata": {
        "id": "zIwH3nto596k"
      },
      "source": [
        "## Train the model"
      ]
    },
    {
      "cell_type": "code",
      "execution_count": 24,
      "metadata": {
        "id": "hw86wWS4YgR2"
      },
      "outputs": [
        {
          "name": "stdout",
          "output_type": "stream",
          "text": [
            "Epoch 1/10\n"
          ]
        },
        {
          "name": "stderr",
          "output_type": "stream",
          "text": [
            "2023-03-30 11:07:26.580220: I tensorflow/core/common_runtime/executor.cc:1197] [/device:CPU:0] (DEBUG INFO) Executor start aborting (this does not indicate an error and you can ignore this message): INVALID_ARGUMENT: You must feed a value for placeholder tensor 'Placeholder/_4' with dtype int64 and shape [1]\n",
            "\t [[{{node Placeholder/_4}}]]\n",
            "2023-03-30 11:07:26.580855: I tensorflow/core/common_runtime/executor.cc:1197] [/device:CPU:0] (DEBUG INFO) Executor start aborting (this does not indicate an error and you can ignore this message): INVALID_ARGUMENT: You must feed a value for placeholder tensor 'Placeholder/_2' with dtype string and shape [1]\n",
            "\t [[{{node Placeholder/_2}}]]\n",
            "2023-03-30 11:07:28.560822: I tensorflow/core/common_runtime/executor.cc:1197] [/device:CPU:0] (DEBUG INFO) Executor start aborting (this does not indicate an error and you can ignore this message): INVALID_ARGUMENT: You must feed a value for placeholder tensor 'gradients/ReverseV2_grad/ReverseV2/ReverseV2/axis' with dtype int32 and shape [1]\n",
            "\t [[{{node gradients/ReverseV2_grad/ReverseV2/ReverseV2/axis}}]]\n",
            "2023-03-30 11:07:30.789681: I tensorflow/core/common_runtime/executor.cc:1197] [/device:CPU:0] (DEBUG INFO) Executor start aborting (this does not indicate an error and you can ignore this message): INVALID_ARGUMENT: You must feed a value for placeholder tensor 'gradients/ReverseV2_grad/ReverseV2/ReverseV2/axis' with dtype int32 and shape [1]\n",
            "\t [[{{node gradients/ReverseV2_grad/ReverseV2/ReverseV2/axis}}]]\n"
          ]
        },
        {
          "name": "stdout",
          "output_type": "stream",
          "text": [
            "391/391 [==============================] - ETA: 0s - loss: 0.6193 - accuracy: 0.6015"
          ]
        },
        {
          "name": "stderr",
          "output_type": "stream",
          "text": [
            "2023-03-30 11:11:15.852606: I tensorflow/core/common_runtime/executor.cc:1197] [/device:CPU:0] (DEBUG INFO) Executor start aborting (this does not indicate an error and you can ignore this message): INVALID_ARGUMENT: You must feed a value for placeholder tensor 'Placeholder/_1' with dtype string and shape [1]\n",
            "\t [[{{node Placeholder/_1}}]]\n",
            "2023-03-30 11:11:15.853049: I tensorflow/core/common_runtime/executor.cc:1197] [/device:CPU:0] (DEBUG INFO) Executor start aborting (this does not indicate an error and you can ignore this message): INVALID_ARGUMENT: You must feed a value for placeholder tensor 'Placeholder/_1' with dtype string and shape [1]\n",
            "\t [[{{node Placeholder/_1}}]]\n"
          ]
        },
        {
          "name": "stdout",
          "output_type": "stream",
          "text": [
            "391/391 [==============================] - 236s 591ms/step - loss: 0.6193 - accuracy: 0.6015 - val_loss: 0.4644 - val_accuracy: 0.7615\n",
            "Epoch 2/10\n"
          ]
        },
        {
          "name": "stderr",
          "output_type": "stream",
          "text": [
            "2023-03-30 11:11:22.906045: W tensorflow/core/kernels/data/cache_dataset_ops.cc:856] The calling iterator did not fully read the dataset being cached. In order to avoid unexpected truncation of the dataset, the partially cached contents of the dataset  will be discarded. This can happen if you have an input pipeline similar to `dataset.cache().take(k).repeat()`. You should use `dataset.take(k).cache().repeat()` instead.\n"
          ]
        },
        {
          "name": "stdout",
          "output_type": "stream",
          "text": [
            "391/391 [==============================] - 227s 581ms/step - loss: 0.3894 - accuracy: 0.8224 - val_loss: 0.3614 - val_accuracy: 0.8292\n",
            "Epoch 3/10\n"
          ]
        },
        {
          "name": "stderr",
          "output_type": "stream",
          "text": [
            "2023-03-30 11:15:10.315282: W tensorflow/core/kernels/data/cache_dataset_ops.cc:856] The calling iterator did not fully read the dataset being cached. In order to avoid unexpected truncation of the dataset, the partially cached contents of the dataset  will be discarded. This can happen if you have an input pipeline similar to `dataset.cache().take(k).repeat()`. You should use `dataset.take(k).cache().repeat()` instead.\n"
          ]
        },
        {
          "name": "stdout",
          "output_type": "stream",
          "text": [
            "391/391 [==============================] - 226s 579ms/step - loss: 0.3384 - accuracy: 0.8518 - val_loss: 0.3393 - val_accuracy: 0.8458\n",
            "Epoch 4/10\n"
          ]
        },
        {
          "name": "stderr",
          "output_type": "stream",
          "text": [
            "2023-03-30 11:18:56.801064: W tensorflow/core/kernels/data/cache_dataset_ops.cc:856] The calling iterator did not fully read the dataset being cached. In order to avoid unexpected truncation of the dataset, the partially cached contents of the dataset  will be discarded. This can happen if you have an input pipeline similar to `dataset.cache().take(k).repeat()`. You should use `dataset.take(k).cache().repeat()` instead.\n"
          ]
        },
        {
          "name": "stdout",
          "output_type": "stream",
          "text": [
            "391/391 [==============================] - 227s 581ms/step - loss: 0.3188 - accuracy: 0.8620 - val_loss: 0.3400 - val_accuracy: 0.8562\n",
            "Epoch 5/10\n"
          ]
        },
        {
          "name": "stderr",
          "output_type": "stream",
          "text": [
            "2023-03-30 11:22:44.219487: W tensorflow/core/kernels/data/cache_dataset_ops.cc:856] The calling iterator did not fully read the dataset being cached. In order to avoid unexpected truncation of the dataset, the partially cached contents of the dataset  will be discarded. This can happen if you have an input pipeline similar to `dataset.cache().take(k).repeat()`. You should use `dataset.take(k).cache().repeat()` instead.\n"
          ]
        },
        {
          "name": "stdout",
          "output_type": "stream",
          "text": [
            "391/391 [==============================] - 227s 581ms/step - loss: 0.3135 - accuracy: 0.8640 - val_loss: 0.3306 - val_accuracy: 0.8521\n",
            "Epoch 6/10\n"
          ]
        },
        {
          "name": "stderr",
          "output_type": "stream",
          "text": [
            "2023-03-30 11:26:31.363986: W tensorflow/core/kernels/data/cache_dataset_ops.cc:856] The calling iterator did not fully read the dataset being cached. In order to avoid unexpected truncation of the dataset, the partially cached contents of the dataset  will be discarded. This can happen if you have an input pipeline similar to `dataset.cache().take(k).repeat()`. You should use `dataset.take(k).cache().repeat()` instead.\n"
          ]
        },
        {
          "name": "stdout",
          "output_type": "stream",
          "text": [
            "391/391 [==============================] - 224s 572ms/step - loss: 0.3082 - accuracy: 0.8654 - val_loss: 0.3465 - val_accuracy: 0.8573\n",
            "Epoch 7/10\n"
          ]
        },
        {
          "name": "stderr",
          "output_type": "stream",
          "text": [
            "2023-03-30 11:30:15.122196: W tensorflow/core/kernels/data/cache_dataset_ops.cc:856] The calling iterator did not fully read the dataset being cached. In order to avoid unexpected truncation of the dataset, the partially cached contents of the dataset  will be discarded. This can happen if you have an input pipeline similar to `dataset.cache().take(k).repeat()`. You should use `dataset.take(k).cache().repeat()` instead.\n"
          ]
        },
        {
          "name": "stdout",
          "output_type": "stream",
          "text": [
            "391/391 [==============================] - 222s 568ms/step - loss: 0.3060 - accuracy: 0.8678 - val_loss: 0.3372 - val_accuracy: 0.8562\n",
            "Epoch 8/10\n"
          ]
        },
        {
          "name": "stderr",
          "output_type": "stream",
          "text": [
            "2023-03-30 11:33:57.494036: W tensorflow/core/kernels/data/cache_dataset_ops.cc:856] The calling iterator did not fully read the dataset being cached. In order to avoid unexpected truncation of the dataset, the partially cached contents of the dataset  will be discarded. This can happen if you have an input pipeline similar to `dataset.cache().take(k).repeat()`. You should use `dataset.take(k).cache().repeat()` instead.\n"
          ]
        },
        {
          "name": "stdout",
          "output_type": "stream",
          "text": [
            "391/391 [==============================] - 223s 571ms/step - loss: 0.3046 - accuracy: 0.8685 - val_loss: 0.3341 - val_accuracy: 0.8594\n",
            "Epoch 9/10\n"
          ]
        },
        {
          "name": "stderr",
          "output_type": "stream",
          "text": [
            "2023-03-30 11:37:40.918019: W tensorflow/core/kernels/data/cache_dataset_ops.cc:856] The calling iterator did not fully read the dataset being cached. In order to avoid unexpected truncation of the dataset, the partially cached contents of the dataset  will be discarded. This can happen if you have an input pipeline similar to `dataset.cache().take(k).repeat()`. You should use `dataset.take(k).cache().repeat()` instead.\n"
          ]
        },
        {
          "name": "stdout",
          "output_type": "stream",
          "text": [
            "391/391 [==============================] - 224s 571ms/step - loss: 0.3014 - accuracy: 0.8700 - val_loss: 0.3309 - val_accuracy: 0.8594\n",
            "Epoch 10/10\n"
          ]
        },
        {
          "name": "stderr",
          "output_type": "stream",
          "text": [
            "2023-03-30 11:41:24.503900: W tensorflow/core/kernels/data/cache_dataset_ops.cc:856] The calling iterator did not fully read the dataset being cached. In order to avoid unexpected truncation of the dataset, the partially cached contents of the dataset  will be discarded. This can happen if you have an input pipeline similar to `dataset.cache().take(k).repeat()`. You should use `dataset.take(k).cache().repeat()` instead.\n"
          ]
        },
        {
          "name": "stdout",
          "output_type": "stream",
          "text": [
            "391/391 [==============================] - 222s 568ms/step - loss: 0.2988 - accuracy: 0.8710 - val_loss: 0.3182 - val_accuracy: 0.8589\n"
          ]
        },
        {
          "name": "stderr",
          "output_type": "stream",
          "text": [
            "2023-03-30 11:45:06.712536: W tensorflow/core/kernels/data/cache_dataset_ops.cc:856] The calling iterator did not fully read the dataset being cached. In order to avoid unexpected truncation of the dataset, the partially cached contents of the dataset  will be discarded. This can happen if you have an input pipeline similar to `dataset.cache().take(k).repeat()`. You should use `dataset.take(k).cache().repeat()` instead.\n"
          ]
        }
      ],
      "source": [
        "history = model.fit(\n",
        "    train_dataset, \n",
        "    epochs = 10,\n",
        "    validation_data = test_dataset,\n",
        "    validation_steps = 30)"
      ]
    },
    {
      "cell_type": "code",
      "execution_count": 25,
      "metadata": {
        "id": "BaNbXi43YgUT"
      },
      "outputs": [
        {
          "name": "stdout",
          "output_type": "stream",
          "text": [
            "391/391 [==============================] - 67s 172ms/step - loss: 0.3143 - accuracy: 0.8608\n",
            "Test Loss: 0.314324289560318\n",
            "Test Accuracy: 0.8608400225639343\n"
          ]
        }
      ],
      "source": [
        "test_loss, test_acc = model.evaluate(\n",
        "    test_dataset)\n",
        "\n",
        "print(\n",
        "    'Test Loss:', test_loss)\n",
        "print(\n",
        "    'Test Accuracy:', test_acc)"
      ]
    },
    {
      "cell_type": "code",
      "execution_count": 26,
      "metadata": {
        "id": "OZmwt_mzaQJk"
      },
      "outputs": [
        {
          "data": {
            "text/plain": [
              "(0.0, 0.6353309348225593)"
            ]
          },
          "execution_count": 26,
          "metadata": {},
          "output_type": "execute_result"
        },
        {
          "data": {
            "image/png": "[encoded data removed]",
            "text/plain": [
              "<Figure size 1600x800 with 2 Axes>"
            ]
          },
          "metadata": {},
          "output_type": "display_data"
        }
      ],
      "source": [
        "plt.figure(\n",
        "    figsize = (16, 8))\n",
        "plt.subplot(\n",
        "    1, 2, 1)\n",
        "plot_graphs(\n",
        "    history, \n",
        "    'accuracy')\n",
        "plt.ylim(\n",
        "    None, 1)\n",
        "plt.subplot(\n",
        "    1, 2, 2)\n",
        "plot_graphs(\n",
        "    history, \n",
        "    'loss')\n",
        "plt.ylim(0, None)"
      ]
    },
    {
      "cell_type": "markdown",
      "metadata": {
        "id": "DwSE_386uhxD"
      },
      "source": [
        "Run a prediction on a new sentence:\n",
        "\n",
        "If the prediction is >= 0.0, it is positive else it is negative."
      ]
    },
    {
      "cell_type": "code",
      "execution_count": 28,
      "metadata": {
        "id": "ZXgfQSgRW6zU"
      },
      "outputs": [
        {
          "name": "stdout",
          "output_type": "stream",
          "text": [
            "1/1 [==============================] - 0s 30ms/step\n",
            "[[0.7880422]]\n"
          ]
        }
      ],
      "source": [
        "sample_text = ('The movie was cool. The animation and the graphics '\n",
        "               'were out of this world. I would recommend this movie.')\n",
        "predictions = model.predict(\n",
        "    np.array([sample_text]))\n",
        "print(predictions)"
      ]
    },
    {
      "cell_type": "markdown",
      "metadata": {
        "id": "7g1evcaRpTKm"
      },
      "source": [
        "## Stack two or more LSTM layers\n",
        "\n",
        "Keras recurrent layers have two available modes that are controlled by the `return_sequences` constructor argument:\n",
        "\n",
        "* If `False` it returns only the last output for each input sequence (a 2D tensor of shape (batch_size, output_features)). This is the default, used in the previous model.\n",
        "\n",
        "* If `True` the full sequences of successive outputs for each timestep is returned (a 3D tensor of shape `(batch_size, timesteps, output_features)`).\n",
        "\n",
        "Here is what the flow of information looks like with `return_sequences=True`:\n",
        "\n",
        "![layered_bidirectional](images/layered_bidirectional.png)"
      ]
    },
    {
      "cell_type": "markdown",
      "metadata": {
        "id": "wbSClCrG1z8l"
      },
      "source": [
        "The interesting thing about using an `RNN` with `return_sequences=True` is that the output still has 3-axes, like the input, so it can be passed to another RNN layer, like this:"
      ]
    },
    {
      "cell_type": "code",
      "execution_count": 29,
      "metadata": {
        "id": "jo1jjO3vn0jo"
      },
      "outputs": [],
      "source": [
        "model = tf.keras.Sequential([\n",
        "    encoder,\n",
        "    tf.keras.layers.Embedding(\n",
        "        len(encoder.get_vocabulary()), \n",
        "        64, \n",
        "        mask_zero = True),\n",
        "    tf.keras.layers.Bidirectional(\n",
        "        tf.keras.layers.LSTM(\n",
        "            64, \n",
        "            return_sequences = True)),\n",
        "    tf.keras.layers.Bidirectional(\n",
        "        tf.keras.layers.LSTM(\n",
        "            32)),\n",
        "    tf.keras.layers.Dense(\n",
        "        64, \n",
        "        activation = 'relu'),\n",
        "    tf.keras.layers.Dropout(\n",
        "        0.5),\n",
        "    tf.keras.layers.Dense(\n",
        "        1)\n",
        "])"
      ]
    },
    {
      "cell_type": "code",
      "execution_count": 30,
      "metadata": {
        "id": "hEPV5jVGp-is"
      },
      "outputs": [],
      "source": [
        "model.compile(\n",
        "    loss = tf.keras.losses.BinaryCrossentropy(\n",
        "        from_logits = True),\n",
        "        optimizer=tf.keras.optimizers.Adam(\n",
        "            1e-4),\n",
        "            metrics=['accuracy'])"
      ]
    },
    {
      "cell_type": "code",
      "execution_count": 31,
      "metadata": {
        "id": "LeSE-YjdqAeN"
      },
      "outputs": [
        {
          "name": "stdout",
          "output_type": "stream",
          "text": [
            "Epoch 1/10\n"
          ]
        },
        {
          "name": "stderr",
          "output_type": "stream",
          "text": [
            "2023-03-30 11:55:22.342033: I tensorflow/core/common_runtime/executor.cc:1197] [/device:CPU:0] (DEBUG INFO) Executor start aborting (this does not indicate an error and you can ignore this message): INVALID_ARGUMENT: You must feed a value for placeholder tensor 'gradients/ReverseV2_grad/ReverseV2/ReverseV2/axis' with dtype int32 and shape [1]\n",
            "\t [[{{node gradients/ReverseV2_grad/ReverseV2/ReverseV2/axis}}]]\n",
            "2023-03-30 11:55:22.886694: I tensorflow/core/common_runtime/executor.cc:1197] [/device:CPU:0] (DEBUG INFO) Executor start aborting (this does not indicate an error and you can ignore this message): INVALID_ARGUMENT: You must feed a value for placeholder tensor 'gradients/ReverseV2_grad/ReverseV2/ReverseV2/axis' with dtype int32 and shape [1]\n",
            "\t [[{{node gradients/ReverseV2_grad/ReverseV2/ReverseV2/axis}}]]\n",
            "2023-03-30 11:55:26.661199: I tensorflow/core/common_runtime/executor.cc:1197] [/device:CPU:0] (DEBUG INFO) Executor start aborting (this does not indicate an error and you can ignore this message): INVALID_ARGUMENT: You must feed a value for placeholder tensor 'gradients/ReverseV2_grad/ReverseV2/ReverseV2/axis' with dtype int32 and shape [1]\n",
            "\t [[{{node gradients/ReverseV2_grad/ReverseV2/ReverseV2/axis}}]]\n",
            "2023-03-30 11:55:27.230103: I tensorflow/core/common_runtime/executor.cc:1197] [/device:CPU:0] (DEBUG INFO) Executor start aborting (this does not indicate an error and you can ignore this message): INVALID_ARGUMENT: You must feed a value for placeholder tensor 'gradients/ReverseV2_grad/ReverseV2/ReverseV2/axis' with dtype int32 and shape [1]\n",
            "\t [[{{node gradients/ReverseV2_grad/ReverseV2/ReverseV2/axis}}]]\n"
          ]
        },
        {
          "name": "stdout",
          "output_type": "stream",
          "text": [
            "391/391 [==============================] - 433s 1s/step - loss: 0.6280 - accuracy: 0.5784 - val_loss: 0.4520 - val_accuracy: 0.7406\n",
            "Epoch 2/10\n",
            "391/391 [==============================] - 412s 1s/step - loss: 0.3942 - accuracy: 0.8289 - val_loss: 0.3661 - val_accuracy: 0.8286\n",
            "Epoch 3/10\n",
            "391/391 [==============================] - 407s 1s/step - loss: 0.3444 - accuracy: 0.8532 - val_loss: 0.3462 - val_accuracy: 0.8344\n",
            "Epoch 4/10\n",
            "391/391 [==============================] - 412s 1s/step - loss: 0.3282 - accuracy: 0.8606 - val_loss: 0.3295 - val_accuracy: 0.8521\n",
            "Epoch 5/10\n",
            "391/391 [==============================] - 419s 1s/step - loss: 0.3158 - accuracy: 0.8659 - val_loss: 0.3402 - val_accuracy: 0.8344\n",
            "Epoch 6/10\n",
            "391/391 [==============================] - 410s 1s/step - loss: 0.3106 - accuracy: 0.8687 - val_loss: 0.3282 - val_accuracy: 0.8620\n",
            "Epoch 7/10\n",
            "391/391 [==============================] - 415s 1s/step - loss: 0.3054 - accuracy: 0.8693 - val_loss: 0.3234 - val_accuracy: 0.8500\n",
            "Epoch 8/10\n",
            "391/391 [==============================] - 412s 1s/step - loss: 0.3045 - accuracy: 0.8694 - val_loss: 0.3147 - val_accuracy: 0.8615\n",
            "Epoch 9/10\n",
            "391/391 [==============================] - 406s 1s/step - loss: 0.2965 - accuracy: 0.8736 - val_loss: 0.3236 - val_accuracy: 0.8547\n",
            "Epoch 10/10\n",
            "391/391 [==============================] - 413s 1s/step - loss: 0.2963 - accuracy: 0.8729 - val_loss: 0.3140 - val_accuracy: 0.8604\n"
          ]
        }
      ],
      "source": [
        "history = model.fit(\n",
        "    train_dataset, \n",
        "    epochs = 10,\n",
        "    validation_data = test_dataset,\n",
        "    validation_steps = 30)"
      ]
    },
    {
      "cell_type": "code",
      "execution_count": 32,
      "metadata": {
        "id": "_LdwilM1qPM3"
      },
      "outputs": [
        {
          "name": "stdout",
          "output_type": "stream",
          "text": [
            "391/391 [==============================] - 113s 289ms/step - loss: 0.3136 - accuracy: 0.8578\n",
            "Test Loss: 0.313582181930542\n",
            "Test Accuracy: 0.8578000068664551\n"
          ]
        }
      ],
      "source": [
        "test_loss, test_acc = model.evaluate(test_dataset)\n",
        "\n",
        "print('Test Loss:', test_loss)\n",
        "print('Test Accuracy:', test_acc)"
      ]
    },
    {
      "cell_type": "code",
      "execution_count": 33,
      "metadata": {
        "id": "ykUKnAoqbycW"
      },
      "outputs": [
        {
          "name": "stdout",
          "output_type": "stream",
          "text": [
            "1/1 [==============================] - 3s 3s/step\n",
            "[[-1.9099722]]\n"
          ]
        }
      ],
      "source": [
        "# predict on a sample text without padding.\n",
        "\n",
        "sample_text = ('The movie was not good. The animation and the graphics '\n",
        "               'were terrible. I would not recommend this movie.')\n",
        "predictions = model.predict(np.array([sample_text]))\n",
        "print(predictions)"
      ]
    },
    {
      "cell_type": "code",
      "execution_count": 34,
      "metadata": {
        "id": "_YYub0EDtwCu"
      },
      "outputs": [
        {
          "data": {
            "image/png": "[encoded data removed]",
            "text/plain": [
              "<Figure size 1600x600 with 2 Axes>"
            ]
          },
          "metadata": {},
          "output_type": "display_data"
        }
      ],
      "source": [
        "plt.figure(figsize=(16, 6))\n",
        "plt.subplot(1, 2, 1)\n",
        "plot_graphs(history, 'accuracy')\n",
        "plt.subplot(1, 2, 2)\n",
        "plot_graphs(history, 'loss')"
      ]
    },
    {
      "cell_type": "markdown",
      "metadata": {
        "id": "9xvpE3BaGw_V"
      },
      "source": [
        "Check out other existing recurrent layers such as [GRU layers](https://www.tensorflow.org/api_docs/python/tf/keras/layers/GRU).\n",
        "\n",
        "If you're interested in building custom RNNs, see the [Keras RNN Guide](https://www.tensorflow.org/guide/keras/rnn).\n"
      ]
    }
  ],
  "metadata": {
    "accelerator": "GPU",
    "colab": {
      "collapsed_sections": [],
      "name": "text_classification_rnn.ipynb",
      "provenance": [],
      "toc_visible": true
    },
    "kernelspec": {
      "display_name": "Python 3",
      "language": "python",
      "name": "python3"
    },
    "language_info": {
      "codemirror_mode": {
        "name": "ipython",
        "version": 3
      },
      "file_extension": ".py",
      "mimetype": "text/x-python",
      "name": "python",
      "nbconvert_exporter": "python",
      "pygments_lexer": "ipython3",
      "version": "3.9.2"
    },
    "vscode": {
      "interpreter": {
        "hash": "767d51c1340bd893661ea55ea3124f6de3c7a262a8b4abca0554b478b1e2ff90"
      }
    }
  },
  "nbformat": 4,
  "nbformat_minor": 0
}
